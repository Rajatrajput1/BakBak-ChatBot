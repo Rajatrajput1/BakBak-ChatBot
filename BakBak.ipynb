{
 "cells": [
  {
   "cell_type": "code",
   "execution_count": 1,
   "id": "f48a56ed-3bb5-4b94-8f69-81325a9bd187",
   "metadata": {},
   "outputs": [],
   "source": [
    "import datetime\n",
    "import random"
   ]
  },
  {
   "cell_type": "code",
   "execution_count": 2,
   "id": "9f8c8163-a25c-452d-8e97-7b58a25de222",
   "metadata": {},
   "outputs": [],
   "source": [
    "def get_time_greeting():\n",
    "    hour = datetime.datetime.now().hour\n",
    "    if hour < 12 :\n",
    "        return \"Good morning! 🌅\"\n",
    "    elif hour <18 :\n",
    "        return \"Good afternoon! 🌞\"\n",
    "    else :\n",
    "        return \"Good evening! 🌙\"\n"
   ]
  },
  {
   "cell_type": "code",
   "execution_count": 3,
   "id": "8694195b-957c-4aec-be62-834ac8fcb61a",
   "metadata": {},
   "outputs": [],
   "source": [
    "def tell_jokes():\n",
    "    jokes = [\"Why did the computer catch a cold? Because it left its Windows open! 🤧\",\n",
    "        \"Why do Java developers wear glasses? Because they don't C#. 😂\",\n",
    "        \"Why was the robot stressed? It had too many bytes to chew! 🤖\",\n",
    "        \"Me opening the fridge for the 27th time:Maybe something delicious 🍕 appeared magically since the last time I checked.😥\",\n",
    "         \"Group project be like:  One person does all the work, one disappears, one sends memes, and one asks “what are we supposed to do again and again?”\",\n",
    "         \"Posted a story 15 mins ago. Me: Checks 17 times to see who viewed it. 👀\",\n",
    "        \"Me: Trying to look productive 💻.  Also me: Switching between Instagram, Twitter, and WhatsApp like I’m working at NASA.\"]\n",
    "    return random.choice(jokes)"
   ]
  },
  {
   "cell_type": "code",
   "execution_count": null,
   "id": "4d6c1304-0d4e-48e9-bc57-e9f9102b3766",
   "metadata": {},
   "outputs": [
    {
     "name": "stdout",
     "output_type": "stream",
     "text": [
      "BakBak🗣: Hello!👋 I am BakBak - your friendly chatbot.\n",
      "BakBak🗣: Good evening! 🌙\n",
      "BakBak🗣: Ask me anything or type 'bye' to exit.\n",
      "\n"
     ]
    },
    {
     "name": "stdin",
     "output_type": "stream",
     "text": [
      "You:  hi\n"
     ]
    },
    {
     "name": "stdout",
     "output_type": "stream",
     "text": [
      "BakBak🗣: Hey there! How can I assist you?\n"
     ]
    },
    {
     "name": "stdin",
     "output_type": "stream",
     "text": [
      "You:  tell me a joke\n"
     ]
    },
    {
     "name": "stdout",
     "output_type": "stream",
     "text": [
      "BakBak🗣: Me: Trying to look productive 💻.  Also me: Switching between Instagram, Twitter, and WhatsApp like I’m working at NASA.\n"
     ]
    }
   ],
   "source": [
    "def bakbak_bot():\n",
    "    print(\"BakBak🗣: Hello!👋 I am BakBak - your friendly chatbot.\")\n",
    "    print(\"BakBak🗣:\", get_time_greeting())\n",
    "    print(\"BakBak🗣: Ask me anything or type 'bye' to exit.\\n\")\n",
    "\n",
    "    while True :\n",
    "        user_input = input(\"You: \").lower()\n",
    "\n",
    "        if \"hello\" in user_input or \"hi\" in user_input:\n",
    "            print(\"BakBak🗣: Hey there! How can I assist you?\")\n",
    "        elif \"how are you\" in user_input:\n",
    "            print(\"BakBak🗣: I'm great! Excited to chat with you 😄\")\n",
    "        elif \"who created you\" in user_input:\n",
    "            print(\"BakBak🗣: I was proudly created by Rajat Rajput! 💻\")\n",
    "        elif \"what can you do\" in user_input or \"help\" in user_input:\n",
    "            print(\"BakBak🗣: I can chat with you, tell jokes, share time, and more!\")\n",
    "        elif \"time\" in user_input:\n",
    "            current_time = datetime.datetime.now().strftime(\"%I:%M %p\")\n",
    "            print(f\"BakBak🗣: The current time is {current_time}.\")\n",
    "        elif \"joke\" in user_input:\n",
    "            print(\"BakBak🗣:\", tell_jokes())\n",
    "        elif \"are you real\" in user_input:\n",
    "            print(\"BakBak🗣: I'm as real as your Wi-Fi signal. 😉\")\n",
    "        elif \"where are you from\" in user_input:\n",
    "            print(\"BakBak🗣: I'm from the creative mind of Rajat and live in your terminal. 🧠💻\")\n",
    "        elif \"thank you\" in user_input:\n",
    "            print(\"BakBak🗣: You're welcome! I'm always here to help. 🙌\")\n",
    "        elif \"bye\" in user_input or \"exit\" in user_input:\n",
    "            print(\"BakBak🗣: Goodbye🙋‍♂️ and Good Luck , Rajat! 🚀\")\n",
    "            break\n",
    "        else:\n",
    "            print(\"BakBak🗣: Hmm... I am still learning. Trying asking something else!\")\n",
    "\n",
    "if __name__ == \"__main__\":\n",
    "    bakbak_bot()\n",
    "        \n",
    "            "
   ]
  },
  {
   "cell_type": "code",
   "execution_count": null,
   "id": "a0ee2fbe-2d49-445d-b029-d8ae083c411f",
   "metadata": {},
   "outputs": [],
   "source": []
  }
 ],
 "metadata": {
  "kernelspec": {
   "display_name": "Python 3 (ipykernel)",
   "language": "python",
   "name": "python3"
  },
  "language_info": {
   "codemirror_mode": {
    "name": "ipython",
    "version": 3
   },
   "file_extension": ".py",
   "mimetype": "text/x-python",
   "name": "python",
   "nbconvert_exporter": "python",
   "pygments_lexer": "ipython3",
   "version": "3.13.4"
  }
 },
 "nbformat": 4,
 "nbformat_minor": 5
}
